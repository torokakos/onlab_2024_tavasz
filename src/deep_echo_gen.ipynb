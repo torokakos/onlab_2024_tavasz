{
 "cells": [
  {
   "cell_type": "code",
   "execution_count": 12,
   "metadata": {},
   "outputs": [],
   "source": [
    "import os\n",
    "import numpy as np\n",
    "import pandas as pd\n",
    "from deepecho import PARModel\n",
    "from sdv.datasets.local import load_csvs\n",
    "from sdv.metadata import SingleTableMetadata"
   ]
  },
  {
   "cell_type": "code",
   "execution_count": 19,
   "metadata": {},
   "outputs": [],
   "source": [
    "# Load data\n",
    "folder_path = \"C:\\D\\Documents\\onlab\\_first250signal\"\n",
    "file_paths = [os.path.join(folder_path, file_name) for file_name in os.listdir(folder_path) if file_name.endswith(\".csv\")]\n",
    "data_frames = [pd.read_csv(file_path) for file_path in file_paths]\n",
    "data = pd.concat(data_frames, ignore_index=True)\n",
    "datasets = load_csvs(folder_name='C:\\D\\Documents\\onlab\\_first250signal')"
   ]
  },
  {
   "cell_type": "code",
   "execution_count": 28,
   "metadata": {},
   "outputs": [],
   "source": [
    "# Define data types for all the columns\n",
    "data_types = {\n",
    "    'FHR': 'continuous',\n",
    "    'UC' : 'continuous'\n",
    "}\n",
    "model = PARModel(epochs=40,cuda=True, sample_size=1)"
   ]
  },
  {
   "cell_type": "code",
   "execution_count": null,
   "metadata": {},
   "outputs": [],
   "source": [
    "# Learn a model from the data\n",
    "model.fit(\n",
    "    data=data,\n",
    "    data_types=data_types,\n",
    "    segment_size=60,\n",
    ")"
   ]
  },
  {
   "cell_type": "code",
   "execution_count": null,
   "metadata": {},
   "outputs": [],
   "source": [
    "#rovid teszteleshez, mentes nelkul\n",
    "model.sample(num_entities=1, sequence_length=400)"
   ]
  },
  {
   "cell_type": "code",
   "execution_count": null,
   "metadata": {},
   "outputs": [],
   "source": [
    "# sima generalas\n",
    "for i in range(0,10):\n",
    "    synth_data=model.sample(num_entities=1, sequence_length=60)\n",
    "    synth_data.to_csv(fr\"C:\\D\\Documents\\onlab\\generated_data_deep_echo\\ss60_ep60_entity1_sql60_de{i}.csv\", index=False)\n",
    "    print(f\"{i}generated\")"
   ]
  },
  {
   "cell_type": "code",
   "execution_count": null,
   "metadata": {},
   "outputs": [],
   "source": [
    "import csv\n",
    "import random\n",
    "\n",
    "#random hosszusagu generalasa\n",
    "for i in range(0, 1000):\n",
    "    csv_file = \"C:\\D\\Documents\\onlab\\signalsrandomlengthfrequency.csv\"\n",
    "    \n",
    "    with open(csv_file, 'r') as file:\n",
    "        reader = csv.reader(file)\n",
    "        next(reader, None)\n",
    "        second_column_values = [row[0] for row in reader]\n",
    "        random_value = int(random.choice(second_column_values))\n",
    "        print(random_value)\n",
    "        # Sample new data\n",
    "        synth_data=model.sample(num_entities=1, sequence_length=random_value)\n",
    "        synth_data.to_csv(fr\"C:\\D\\Documents\\onlab\\generated_data_deep_echo\\ep40ss1ss60_same_database\\de{i}.csv\", index=False)\n",
    "        print(f\"{i}generated\")"
   ]
  }
 ],
 "metadata": {
  "kernelspec": {
   "display_name": "Python 3",
   "language": "python",
   "name": "python3"
  },
  "language_info": {
   "codemirror_mode": {
    "name": "ipython",
    "version": 3
   },
   "file_extension": ".py",
   "mimetype": "text/x-python",
   "name": "python",
   "nbconvert_exporter": "python",
   "pygments_lexer": "ipython3",
   "version": "3.10.0"
  }
 },
 "nbformat": 4,
 "nbformat_minor": 2
}
