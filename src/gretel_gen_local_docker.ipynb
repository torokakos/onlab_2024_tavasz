{
 "cells": [
  {
   "cell_type": "code",
   "execution_count": null,
   "metadata": {},
   "outputs": [],
   "source": [
    "import json\n",
    "\n",
    "from smart_open import open\n",
    "import pandas as pd\n",
    "import os \n",
    "from gretel_client import configure_session\n",
    "\n",
    "from gretel_client import submit_docker_local\n",
    "from gretel_client.projects import create_or_get_unique_project\n",
    "\n",
    "configure_session(api_key=\"grtub9ad1872f577fb7f6392e130b7725b4abe73b232d07b54d35296de5513dd60b3\", cache=\"no\", validate=True)\n"
   ]
  },
  {
   "cell_type": "code",
   "execution_count": null,
   "metadata": {},
   "outputs": [],
   "source": [
    "def insert_rows(folder_path, value_one, value_two):\n",
    "    # Iterate through all files in the folder\n",
    "    for file_name in os.listdir(folder_path):\n",
    "        if file_name.endswith(\".csv\"):\n",
    "            file_path = os.path.join(folder_path, file_name)\n",
    "            \n",
    "            # Read the CSV file\n",
    "            df = pd.read_csv(file_path)\n",
    "            \n",
    "            # Insert two rows with constant values\n",
    "            new_rows = pd.DataFrame({\"one\": [value_one, value_one], \"two\": [value_two, value_two]})\n",
    "            df = pd.concat([new_rows, df], ignore_index=True)\n",
    "            \n",
    "            # Write back to the same CSV file\n",
    "            df.to_csv(file_path, index=False)\n",
    "\n",
    "# Example usage\n",
    "folder_path = \"path/to/csv/files\"\n",
    "value_one = \"a\"\n",
    "value_two = \"b\"\n",
    "insert_rows(folder_path, value_one, value_two)"
   ]
  },
  {
   "cell_type": "code",
   "execution_count": 9,
   "metadata": {},
   "outputs": [],
   "source": [
    "folder_path = \"C:\\D\\Documents\\onlab\\_testsignals110\"\n",
    "file_paths = [os.path.join(folder_path, file_name) for file_name in os.listdir(folder_path) if file_name.endswith(\".csv\")]\n",
    "data_frames = [pd.read_csv(file_path) for file_path in file_paths]\n",
    "df = pd.concat(data_frames, ignore_index=True)\n",
    "df.to_csv(\"training_data.csv\", index=False)"
   ]
  },
  {
   "cell_type": "code",
   "execution_count": 13,
   "metadata": {},
   "outputs": [],
   "source": [
    "# Load config and set training parameters\n",
    "from gretel_client.projects.models import read_model_config\n",
    "\n",
    "config = read_model_config(\"C:\\D\\Documents\\onlab\\gretel\\model.yml\")\n",
    "\n",
    "config[\"name\"] = \"dgan-for-ctg\"\n",
    "config[\"models\"][0][\"timeseries_dgan\"][\"generate\"] = {\"num_records\": 3000}\n",
    "config[\"models\"][0][\"timeseries_dgan\"][\"data_source\"] = \"training_data.csv\""
   ]
  },
  {
   "cell_type": "code",
   "execution_count": null,
   "metadata": {},
   "outputs": [],
   "source": [
    "# Create a project and train the synthetic data model\n",
    "\n",
    "project = create_or_get_unique_project(name=\"synthetic-data-local\")\n",
    "model = project.create_model_obj(model_config=config)\n",
    "run = submit_docker_local(model, output_dir=\"tmp/\")"
   ]
  },
  {
   "cell_type": "code",
   "execution_count": null,
   "metadata": {},
   "outputs": [],
   "source": [
    "# View the generated synthetic data\n",
    "for i in range(0,100):\n",
    "    synthetic_df = pd.read_csv(\"tmp/data_preview.gz\", compression=\"gzip\")\n",
    "    synthetic_df.to_csv(f\"C:\\D\\Documents\\onlab\\gretel\\gretel_gen{i}.csv\")"
   ]
  },
  {
   "cell_type": "code",
   "execution_count": null,
   "metadata": {},
   "outputs": [],
   "source": [
    "\n",
    "# Use the trained model to create additional synthetic data\n",
    "for i in range(0,100):\n",
    "    record_handler = model.create_record_handler_obj(params={\"num_records\": 100})\n",
    "    run = submit_docker_local(\n",
    "        record_handler, model_path=\"tmp/model.tar.gz\", output_dir=\"tmp/\"\n",
    "    )\n",
    "    synthetic_df_new = pd.read_csv(\"tmp/data.gz\", compression=\"gzip\")\n",
    "    synthetic_df_new.to_csv(f\"C:\\D\\Documents\\onlab\\gretel\\gretel_gen{i}.csv\")"
   ]
  }
 ],
 "metadata": {
  "kernelspec": {
   "display_name": "Python 3",
   "language": "python",
   "name": "python3"
  },
  "language_info": {
   "codemirror_mode": {
    "name": "ipython",
    "version": 3
   },
   "file_extension": ".py",
   "mimetype": "text/x-python",
   "name": "python",
   "nbconvert_exporter": "python",
   "pygments_lexer": "ipython3",
   "version": "3.10.0"
  }
 },
 "nbformat": 4,
 "nbformat_minor": 2
}
